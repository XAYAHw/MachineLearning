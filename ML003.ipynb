{
 "cells": [
  {
   "cell_type": "code",
   "execution_count": 88,
   "id": "008174ca",
   "metadata": {
    "scrolled": true
   },
   "outputs": [],
   "source": [
    "# 引入数据集\n",
    "from sklearn import tree\n",
    "from sklearn.tree import DecisionTreeClassifier      #导入决策树DTC包\n",
    "import matplotlib.pyplot as plt\n",
    "from sklearn.datasets import load_iris  # 导入方法类\n",
    " \n",
    "iris = load_iris()  #导入数据集iris\n",
    "iris_features = iris.data    #特征数据\n",
    "iris_target = iris.target   #分类数据\n",
    " \n",
    "from sklearn.model_selection import train_test_split\n",
    "x_train, x_test, y_train, y_test = train_test_split(iris_features, iris_target, test_size = 0.2, random_state = 2021)\n",
    "\n",
    "#print(y_train)\n",
    "#print(y_test)\n"
   ]
  },
  {
   "cell_type": "code",
   "execution_count": 127,
   "id": "6286ab1c",
   "metadata": {},
   "outputs": [
    {
     "name": "stdout",
     "output_type": "stream",
     "text": [
      "1.0\n"
     ]
    }
   ],
   "source": [
    "dtc = DecisionTreeClassifier(random_state=2021)      # 所有参数均置为默认状态\n",
    "dtc.fit(x_train,y_train)     # 使用训练集训练模型\n",
    "\n",
    "predict_results = dtc.predict(x_test) # 使用模型对测试集进行预测\n",
    "\n",
    "from sklearn.metrics import accuracy_score\n",
    "print (accuracy_score(predict_results, y_test))\n",
    "\n",
    "# viz code 可视化 制作一个简单易读的PDF\n",
    "from six import StringIO\n",
    "import pydot\n",
    "\n",
    "dot_data = StringIO()\n",
    "tree.export_graphviz(dtc, out_file=dot_data,\n",
    "                     feature_names=iris.feature_names,\n",
    "                     class_names=iris.target_names,\n",
    "                     filled=True, rounded=True,\n",
    "                     special_characters=True)\n",
    "graph = pydot.graph_from_dot_data(dot_data.getvalue())\n",
    "# print(len(graph))  # 1\n",
    "# print(graph)  # [<pydot.Dot object at 0x000001F7BD1A9630>]\n",
    "# print(graph[0])  # <pydot.Dot object at 0x000001F7BD1A9630>\n",
    "graph[0].write_pdf(\"iris01.pdf\")"
   ]
  },
  {
   "cell_type": "code",
   "execution_count": 145,
   "id": "a23770cb",
   "metadata": {},
   "outputs": [
    {
     "name": "stdout",
     "output_type": "stream",
     "text": [
      "0.9666666666666667\n"
     ]
    }
   ],
   "source": [
    "#criterion = gini/entropy 可以用来选择用基尼指数或者熵来做损失函数。\n",
    "#splitter = best/random 用来确定每个节点的分裂策略。支持“最佳”或者“随机”。\n",
    "#max_depth = int 用来控制决策树的最大深度，防止模型出现过拟合。\n",
    "#min_samples_leaf = int 用来设置叶节点上的最少样本数量，用于对树进行修剪。\n",
    "\n",
    "dtc = DecisionTreeClassifier(max_depth=3,random_state=2021)    \n",
    "dtc.fit(x_train,y_train)     # 使用训练集训练模型\n",
    "#print(dtc)\n",
    "\n",
    "predict_results = dtc.predict(x_test) # 使用模型对测试集进行预测\n",
    "#print(predicted)\n",
    "      \n",
    "from sklearn.metrics import accuracy_score\n",
    "print (accuracy_score(predict_results, y_test))\n",
    "\n",
    "# viz code 可视化 制作一个简单易读的PDF\n",
    "from six import StringIO\n",
    "import pydot\n",
    "\n",
    "dot_data = StringIO()\n",
    "tree.export_graphviz(dtc, out_file=dot_data,\n",
    "                     feature_names=iris.feature_names,\n",
    "                     class_names=iris.target_names,\n",
    "                     filled=True, rounded=True,\n",
    "                     special_characters=True)\n",
    "graph = pydot.graph_from_dot_data(dot_data.getvalue())\n",
    "# print(len(graph))  # 1\n",
    "# print(graph)  # [<pydot.Dot object at 0x000001F7BD1A9630>]\n",
    "# print(graph[0])  # <pydot.Dot object at 0x000001F7BD1A9630>\n",
    "graph[0].write_pdf(\"iris02.pdf\")\n"
   ]
  },
  {
   "cell_type": "code",
   "execution_count": 162,
   "id": "a5c5a874",
   "metadata": {},
   "outputs": [
    {
     "name": "stdout",
     "output_type": "stream",
     "text": [
      "0.9666666666666667\n"
     ]
    }
   ],
   "source": [
    "dtc = DecisionTreeClassifier(max_depth=3,criterion = 'gini',splitter = 'best',random_state= 2021)    \n",
    "dtc.fit(x_train,y_train)     # 使用训练集训练模型\n",
    "\n",
    "predict_results = dtc.predict(x_test) # 使用模型对测试集进行预测\n",
    "\n",
    "      \n",
    "from sklearn.metrics import accuracy_score\n",
    "print (accuracy_score(predict_results, y_test))\n",
    "\n",
    "\n",
    "# viz code 可视化 制作一个简单易读的PDF\n",
    "from six import StringIO\n",
    "import pydot\n",
    "\n",
    "dot_data = StringIO()\n",
    "tree.export_graphviz(dtc, out_file=dot_data,\n",
    "                     feature_names=iris.feature_names,\n",
    "                     class_names=iris.target_names,\n",
    "                     filled=True, rounded=True,\n",
    "                     special_characters=True)\n",
    "graph = pydot.graph_from_dot_data(dot_data.getvalue())\n",
    "# print(len(graph))  # 1\n",
    "# print(graph)  # [<pydot.Dot object at 0x000001F7BD1A9630>]\n",
    "# print(graph[0])  # <pydot.Dot object at 0x000001F7BD1A9630>\n",
    "graph[0].write_pdf(\"iris03.pdf\")"
   ]
  },
  {
   "cell_type": "code",
   "execution_count": null,
   "id": "946f4d4a",
   "metadata": {},
   "outputs": [],
   "source": [
    "# viz code 可视化 制作一个简单易读的PDF\n",
    "from six import StringIO\n",
    "import pydot\n",
    "#需要安装pydot包，用Anaconda Prompt安装，需要先安装graphviz再安装pydot，命令如下：\n",
    "# conda install graphviz\n",
    "# conda install pydot\n",
    "dot_data = StringIO()\n",
    "tree.export_graphviz(dtc, out_file=dot_data,\n",
    "                     feature_names=iris.feature_names,\n",
    "                     class_names=iris.target_names,\n",
    "                     filled=True, rounded=True,\n",
    "                     special_characters=True)\n",
    "graph = pydot.graph_from_dot_data(dot_data.getvalue())\n",
    "# print(len(graph))  # 1\n",
    "# print(graph)  # [<pydot.Dot object at 0x000001F7BD1A9630>]\n",
    "# print(graph[0])  # <pydot.Dot object at 0x000001F7BD1A9630>\n",
    "graph.write_pdf(\"iris.pdf\")\n"
   ]
  }
 ],
 "metadata": {
  "kernelspec": {
   "display_name": "Python 3",
   "language": "python",
   "name": "python3"
  },
  "language_info": {
   "codemirror_mode": {
    "name": "ipython",
    "version": 3
   },
   "file_extension": ".py",
   "mimetype": "text/x-python",
   "name": "python",
   "nbconvert_exporter": "python",
   "pygments_lexer": "ipython3",
   "version": "3.8.8"
  }
 },
 "nbformat": 4,
 "nbformat_minor": 5
}
